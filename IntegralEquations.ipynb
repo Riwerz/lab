{
 "cells": [
  {
   "cell_type": "markdown",
   "metadata": {},
   "source": [
    "#### Интегральное уравнение Фредгольма: $u(x) - 0.1\\int_{0}^{1}\\frac{1}{10 - xy}u(y)dy = 1 + x^2$\n",
    "\n",
    "#### Интегральное уравнения Вольтерра: $u(x) - \\int_{0}^{x}sin(x-y)u(y)dy = 1 - cos(x);  \n",
    "x\\in[0, \\frac{\\pi}{2}]$\n",
    " \n",
    "* Методом механических квадратур найти решение интегрального уравнения Фредгольма. Для вычисления интеграла использовать квадратурную формулу Симпсона.\n",
    "* Методом замены ядра на вырожденное найти решение интегрального уравнения Фредгольма. \n",
    "* Методом последовательных приближений найти решение интегрального уравнения Фредгольма с точностью <b>ε = 0.001</b>\n",
    "* Методом механических квадратур найти решение интегрального уравнения Вольтерра. Для вычисления интеграла использовать квадратурную формулу трапеции.\n"
   ]
  },
  {
   "cell_type": "code",
   "execution_count": 1,
   "metadata": {},
   "outputs": [],
   "source": [
    "import numpy as np\n",
    "from math import cos, sin, pi\n",
    "import scipy.integrate\n",
    "import scipy.interpolate\n",
    "N = 11\n",
    "a, h, b = 0.0, 0.1, 1\n",
    "X = [round(a + i * h, 2) for i in range(N)]\n",
    "K = lambda x, y: 1 / (10 - x*y)\n",
    "f = lambda x: 1 + x**2\n",
    "L = 0.1\n",
    "EPS = 10**-3"
   ]
  },
  {
   "cell_type": "code",
   "execution_count": 2,
   "metadata": {},
   "outputs": [],
   "source": [
    "def integral(func_1, func_2):\n",
    "    func = lambda x: func_1(x) * func_2(x)\n",
    "    I = scipy.integrate.quad(func, a, b)\n",
    "    return I[0]"
   ]
  },
  {
   "cell_type": "code",
   "execution_count": 3,
   "metadata": {},
   "outputs": [],
   "source": [
    "def kernel_change():\n",
    "    alpha = {\n",
    "        0: lambda x: (2 * x - 1) * (x - 1),\n",
    "        1: lambda x: -4 * x * (x - 1),\n",
    "        2: lambda x: x * (2 * x - 1)\n",
    "        }\n",
    "    beta = {\n",
    "        0: lambda y: 0.1,\n",
    "        1: lambda y: 2 / (20 - y),\n",
    "        2: lambda y: 1 / (10 - y)\n",
    "        }\n",
    "    B = np.array( [integral(beta[i], f) for i in range(3)] )\n",
    "    M = np.zeros((3,3))\n",
    "    for i in range(3):\n",
    "        for j in range(3):\n",
    "            if i == j:\n",
    "                M[i][i] = 1 - L*integral(alpha[i],beta[i])\n",
    "            else:\n",
    "                M[i][j] = -L*integral(alpha[j], beta[i])\n",
    "    C = np.linalg.solve(M,B)\n",
    "    u = lambda x: f(x) + L*sum(C[i]*alpha[i](x) for i in range(3))\n",
    "    for i in range(N):\n",
    "        print(\"{}\\t{}\\n\".format(X[i], u(X[i])), end='')"
   ]
  },
  {
   "cell_type": "code",
   "execution_count": 4,
   "metadata": {},
   "outputs": [],
   "source": [
    "def mech_quadr_Fredholm():\n",
    "    A = [2 * h / 3 for i in range(N)]\n",
    "    A[0] = A[-1] = h / 3\n",
    "    for i in range(1, N, 2):\n",
    "        A[i] *= 2\n",
    "\n",
    "    g = [f(point) for point in X]\n",
    "    M = np.zeros((N, N))\n",
    "    for i in range(N):\n",
    "        M[i][i] = 1 - L * A[i] * K(X[i], X[i])\n",
    "        for j in range(i + 1, N):\n",
    "            M[i][j] = -L * A[j] * K(X[i], X[j])\n",
    "            M[j][i] = -L * A[i] * K(X[j], X[i])\n",
    "    y = np.linalg.solve(M, g)\n",
    "    u = []\n",
    "    for x_0 in X:\n",
    "        u.append( L * sum(A[k] * K(x_0, X[k]) * y[k] for k in range(N)) + f(x_0))\n",
    "    for i in range(N):\n",
    "        print(\"{}\\t{}\\t{}\\n\".format(X[i], y[i], u[i]), end='')"
   ]
  },
  {
   "cell_type": "code",
   "execution_count": 5,
   "metadata": {},
   "outputs": [],
   "source": [
    "def MPP():\n",
    "    def stop(y_1, y_2):\n",
    "        for i in range(N):\n",
    "            if abs(y_1[i] - y_2[i] >= EPS):\n",
    "                return False\n",
    "        return True\n",
    "\n",
    "    Y = [[0 for i in range(N)], [1 for i in range(N)]]\n",
    "    while not stop(Y[-1], Y[-2]):\n",
    "        y = scipy.interpolate.lagrange(X, Y[-1])\n",
    "        Y.append([])\n",
    "        for i in range(N):\n",
    "            K_1 = lambda s: K(X[i], s) * y(s)\n",
    "            Y[-1].append(L * scipy.integrate.quad(K_1, a, b)[0] + f(X[i]))\n",
    "    for i in range(N):\n",
    "        print(\"{}\\t{}\\n\".format(X[i], Y[-1][i]), end='')"
   ]
  },
  {
   "cell_type": "code",
   "execution_count": 6,
   "metadata": {},
   "outputs": [],
   "source": [
    "def mech_quadr_Volterra():\n",
    "    a, b = 0, pi/2\n",
    "    h = (b - a) / N\n",
    "    K = lambda x, s: sin(x - s)\n",
    "    L = 1.\n",
    "    f = lambda x: 1 - cos(x)\n",
    "    A = [h for i in range(N)]\n",
    "    A[0] = A[-1] = h/2\n",
    "    y = [f(X[0]),]\n",
    "    for i in range(1, N):\n",
    "        y.append( (f(X[i]) + L*sum(A[k]*K(X[i], X[k])*y[k] for k in range(i)))/(1 - L*A[i]*K(X[i], X[i])) )\n",
    "    for i in range(N):\n",
    "        print(\"{}\\t{}\\n\".format(X[i], y[i]), end='')"
   ]
  },
  {
   "cell_type": "code",
   "execution_count": null,
   "metadata": {},
   "outputs": [],
   "source": []
  }
 ],
 "metadata": {
  "kernelspec": {
   "display_name": "Python 3",
   "language": "python",
   "name": "python3"
  },
  "language_info": {
   "codemirror_mode": {
    "name": "ipython",
    "version": 3
   },
   "file_extension": ".py",
   "mimetype": "text/x-python",
   "name": "python",
   "nbconvert_exporter": "python",
   "pygments_lexer": "ipython3",
   "version": "3.6.2"
  }
 },
 "nbformat": 4,
 "nbformat_minor": 2
}
