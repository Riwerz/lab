{
 "cells": [
  {
   "cell_type": "markdown",
   "metadata": {},
   "source": [
    "* Дана задача Коши $u'=u+3t-t^2-0.5;$ &emsp;$u(0)=1$ <br/>Шаг h = 0.1; $x\\in[0, 1]$. \n",
    "* Методом последовательного повышения точности 4-го порядка и экстраполяционным методом Адамса найти решение задачи Коши\n"
   ]
  },
  {
   "cell_type": "code",
   "execution_count": 1,
   "metadata": {},
   "outputs": [],
   "source": [
    "import numpy as np\n",
    "N = 11\n",
    "a, h, b = 0. , 0.1, 1.\n",
    "f = lambda t, u : u + 3*t - t**2 - 0.5"
   ]
  },
  {
   "cell_type": "code",
   "execution_count": 2,
   "metadata": {},
   "outputs": [],
   "source": [
    "#Метод последовательного повышения точности\n",
    "def PPT():\n",
    "    m = 4\n",
    "    u = np.zeros(N)\n",
    "    y = []\n",
    "    t = u.copy()\n",
    "    u[0] = 1\n",
    "    for i in range(N-1):\n",
    "        y1 = u[i] + (h / m) * f(t[i], u[i])\n",
    "        y2 = u[i] + (h / 3) * (((6 - m) / 6) * f(t[i], u[i]) + (m / 6) * f(t[i] + (1 / m) * h, y1))\n",
    "        y3 = u[i] + (h / 8) * (f(t[i], u[i]) + 3 * f(t[i] + h / 3, y2))\n",
    "        y4 = u[i] + (h / 2) * (f(t[i], u[i]) - 3 * f(t[i] + h / 3, y2) + 4 * f(t[i] + h / 2, y3))\n",
    "        u[i + 1] = u[i] + (h / 6) * (f(t[i], u[i]) + 4 * f(t[i] + h / 2, y3) + f(t[i] + h, y4))\n",
    "        t[i + 1] = t[i] + h\n",
    "        y.append([(y1, y2, y3, y4)])\n",
    "    for i in range(N-1):\n",
    "        print('u({}) = {}; y1 = {};'.format(t[i], u[i], y[i]))\n"
   ]
  },
  {
   "cell_type": "code",
   "execution_count": 3,
   "metadata": {},
   "outputs": [],
   "source": [
    "def RK_Adams():\n",
    "    u = np.zeros(N)\n",
    "    k = []\n",
    "    t = u.copy()\n",
    "    u[0] = 1\n",
    "    t[0] = 0\n",
    "    #Метод Рунге-Кутта\n",
    "    for i in range(N-1):\n",
    "        k1 = f(t[i], u[i])\n",
    "        k2 = f(t[i] + h / 2, u[i] + k1 * h / 2)\n",
    "        k3 = f(t[i] + h / 2, u[i] + k2 * h / 2)\n",
    "        k4 = f(t[i] + h, u[i] + h * k3)\n",
    "        u[i + 1] = u[i] + h / 6 * (k1 + 2 * k2 + 2 * k3 + k4)\n",
    "        t[i + 1] = t[i] + h\n",
    "        k.append([k1, k2, k3, k4])\n",
    "    for i in range(4):\n",
    "        print('{}\\t{}\\t{}\\t{}\\t{}\\t{}\\n'.format(round(t[i],2), u[i], k[i][0],k[i][1],k[i][2],k[i][3]), end='')\n",
    "    # Метод Адамса\n",
    "    for i in range(3, N - 1):\n",
    "        u[i + 1] = u[i] + (h / 24) * (55 * f(t[i], u[i]) - 59 * f(t[i - 1], u[i - 1]) + 37 * f(t[i - 2], u[i - 2]) - 9 * f(t[i - 3], u[i - 3]))\n",
    "        \n",
    "    for i in range(4, N - 1):\n",
    "        print('{}\\t{}\\n'.format(round(t[i], 2), u[i]), end='')\n"
   ]
  },
  {
   "cell_type": "code",
   "execution_count": null,
   "metadata": {},
   "outputs": [],
   "source": []
  }
 ],
 "metadata": {
  "kernelspec": {
   "display_name": "Python 3",
   "language": "python",
   "name": "python3"
  },
  "language_info": {
   "codemirror_mode": {
    "name": "ipython",
    "version": 3
   },
   "file_extension": ".py",
   "mimetype": "text/x-python",
   "name": "python",
   "nbconvert_exporter": "python",
   "pygments_lexer": "ipython3",
   "version": "3.6.2"
  }
 },
 "nbformat": 4,
 "nbformat_minor": 2
}
