{
 "cells": [
  {
   "cell_type": "markdown",
   "metadata": {},
   "source": [
    "<i>Методист по информатике О. Г. живёт на n-м этаже 99-этажного дома с лифтом, который может останавливаться на каждом этаже. Между соседними этажами дома имеется лестница из двух пролётов, разделённых площадкой, по k ступенек в каждом пролёте. Сколькими способами О. Г. может подняться на свой этаж, если, поднимаясь по лестнице, можно становиться на следующую ступеньку или через одну ступеньку? Методист может проехать любое число этажей на лифте (но он не может спускаться вниз ни на лифте, ни по лестнице). </i>\n",
    "\n",
    "Поскольку ответ может быть достаточно большим, вычислите его по модулю 1 000 000 009. Можете считать, что вход в подъезд расположен на площадке первого этажа.\n",
    "\n",
    "<b>Формат входных данных:</b>\n",
    "единственная строка содержит два натуральных числа n и k (1 ≤ n ≤ 99, 1 ≤ k ≤ 100). <br/>\n",
    "<b>Формат выходных данных:</b>\n",
    "выведите число способов подняться на n-й этаж, вычисленное по модулю 1 000 000 009."
   ]
  },
  {
   "cell_type": "code",
   "execution_count": 5,
   "metadata": {},
   "outputs": [
    {
     "name": "stdout",
     "output_type": "stream",
     "text": [
      "625\n"
     ]
    }
   ],
   "source": [
    "import numpy as np\n",
    "\n",
    "n, k = 5, 2\n",
    "\n",
    "C = np.zeros((n,n))\n",
    "fib = [0,1]\n",
    "for i in range(1,k+1):\n",
    "    fib.append(fib[i-1] + fib[i])\n",
    "F = lambda floor: fib[k+1]**(2*floor - 2)\n",
    "for i in range(n):\n",
    "    C[i][0] = 1\n",
    "    C[i][i] = 1\n",
    "    for j in range(1, i):\n",
    "        C[i][j] = C[i-1][j] + C[i-1][j-1]\n",
    "N = (sum(C[n-1][i] * F(n-i) for i in range(n))) % 1000000009\n",
    "\n",
    "print(int(N))"
   ]
  }
 ],
 "metadata": {
  "kernelspec": {
   "display_name": "Python 3",
   "language": "python",
   "name": "python3"
  },
  "language_info": {
   "codemirror_mode": {
    "name": "ipython",
    "version": 3
   },
   "file_extension": ".py",
   "mimetype": "text/x-python",
   "name": "python",
   "nbconvert_exporter": "python",
   "pygments_lexer": "ipython3",
   "version": "3.6.2"
  }
 },
 "nbformat": 4,
 "nbformat_minor": 2
}
