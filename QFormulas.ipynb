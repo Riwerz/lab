{
 "cells": [
  {
   "cell_type": "markdown",
   "metadata": {},
   "source": [
    "* Вычислить определённый интеграл $\\int_{0}^{x}\\frac{1}{\\sqrt{1-t^2}}dt ; x\\in[0; 0.9]$ с помощью составных формул трапеции и Симпсона c точностью ε < 0.000001"
   ]
  },
  {
   "cell_type": "code",
   "execution_count": 1,
   "metadata": {},
   "outputs": [],
   "source": [
    "from math import sqrt\n",
    "EPS = 10**-6\n",
    "a, h, b = 0.0, 0.1, 0.9\n",
    "Runge = lambda Q_1, Q_2, m:  abs((Q_2 - Q_1)/(1 - 1/(2**m))) < EPS\n",
    "f = lambda x: 1 / sqrt(1 - x**2)"
   ]
  },
  {
   "cell_type": "code",
   "execution_count": 2,
   "metadata": {},
   "outputs": [],
   "source": [
    "def method_Trap(a,b):\n",
    "    N = 2\n",
    "    Q_prev, Q = 0, h * (f(a) + f(b)) / 2\n",
    "    while not Runge(Q_prev, Q, 2):\n",
    "        step = (b-a)/N\n",
    "        Q_prev = Q\n",
    "        Q =  step*((f(a) + f(b))/2 + sum(f(a + i*step) for i in range(1,N)))\n",
    "        N *= 2\n",
    "    return Q, N"
   ]
  },
  {
   "cell_type": "code",
   "execution_count": 3,
   "metadata": {},
   "outputs": [],
   "source": [
    "def method_Simpson(a,b):\n",
    "    N = 4\n",
    "    Q_prev, Q = 0, h * (f(a) + f(b)) / 2\n",
    "    while not Runge(Q_prev, Q, 4):\n",
    "        step = (b - a) / N\n",
    "        Q_prev = Q\n",
    "        Q = step/3 * ( (f(a) + f(b) + 4*sum(f(a + i * step) for i in range(1, N, 2)) + 2*sum(f(a + i * step) for i in range(2, N-1, 2))) )\n",
    "        N *= 2\n",
    "    return Q, N"
   ]
  },
  {
   "cell_type": "code",
   "execution_count": 4,
   "metadata": {},
   "outputs": [],
   "source": [
    "def print_results(method):\n",
    "    X = [round(a + i*h,2) for i in range(10)]\n",
    "    F = 0.0\n",
    "    for i in range(len(X) - 1):\n",
    "        I, N = method(X[i], X[i+1])\n",
    "        F += I\n",
    "        print(\"I({0},{1}) = {2};\\t\\tN = {3};\\t\\tF({1}) = {4}\".format(X[i], X[i+1], I, N, F))"
   ]
  },
  {
   "cell_type": "code",
   "execution_count": null,
   "metadata": {},
   "outputs": [],
   "source": []
  }
 ],
 "metadata": {
  "kernelspec": {
   "display_name": "Python 3",
   "language": "python",
   "name": "python3"
  },
  "language_info": {
   "codemirror_mode": {
    "name": "ipython",
    "version": 3
   },
   "file_extension": ".py",
   "mimetype": "text/x-python",
   "name": "python",
   "nbconvert_exporter": "python",
   "pygments_lexer": "ipython3",
   "version": "3.6.2"
  }
 },
 "nbformat": 4,
 "nbformat_minor": 2
}
