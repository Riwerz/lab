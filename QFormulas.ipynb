{
 "cells": [
  {
   "cell_type": "markdown",
   "metadata": {},
   "source": [
    "#### Вычислить определённый интеграл от 0 до х функции f(t)=1/sqrt(1-t^2 ) в точках x=[0 ; 0.9] с помощью составных формул трапеции и Симпсона c точностью ε < 0.000001"
   ]
  },
  {
   "cell_type": "code",
   "execution_count": 2,
   "metadata": {},
   "outputs": [],
   "source": [
    "from math import sqrt\n",
    "EPS = 10**-6\n",
    "a, h, b = 0.0, 0.1, 0.9\n",
    "Runge = lambda Q_1, Q_2, m:  abs((Q_2 - Q_1)/(1 - 1/(2**m))) < EPS\n",
    "f = lambda x: 1 / sqrt(1 - x**2)"
   ]
  },
  {
   "cell_type": "code",
   "execution_count": 3,
   "metadata": {},
   "outputs": [],
   "source": [
    "def method_Trap(a,b):\n",
    "    N = 2\n",
    "    Q_prev, Q = 0, h * (f(a) + f(b)) / 2\n",
    "    while not Runge(Q_prev, Q, 2):\n",
    "        step = (b-a)/N\n",
    "        Q_prev = Q\n",
    "        Q =  step*((f(a) + f(b))/2 + sum(f(a + i*step) for i in range(1,N)))\n",
    "        N *= 2\n",
    "    return Q, N"
   ]
  },
  {
   "cell_type": "code",
   "execution_count": 4,
   "metadata": {},
   "outputs": [],
   "source": [
    "def method_Simpson(a,b):\n",
    "    N = 4\n",
    "    Q_prev, Q = 0, h * (f(a) + f(b)) / 2\n",
    "    while not Runge(Q_prev, Q, 4):\n",
    "        step = (b - a) / N\n",
    "        Q_prev = Q\n",
    "        Q = step/3 * ( (f(a) + f(b) + 4*sum(f(a + i * step) for i in range(1, N, 2)) + 2*sum(f(a + i * step) for i in range(2, N-1, 2))) )\n",
    "        N *= 2\n",
    "    return Q, N"
   ]
  },
  {
   "cell_type": "code",
   "execution_count": 5,
   "metadata": {},
   "outputs": [],
   "source": [
    "def print_results(method):\n",
    "    X = [round(a + i*h,2) for i in range(10)]\n",
    "    F = 0.0\n",
    "    for i in range(len(X) - 1):\n",
    "        I, N = method(X[i], X[i+1])\n",
    "        F += I\n",
    "        print(\"I({0},{1}) = {2};\\t\\tN = {3};\\t\\tF({1}) = {4}\".format(X[i], X[i+1], I, N, F))"
   ]
  },
  {
   "cell_type": "code",
   "execution_count": 6,
   "metadata": {},
   "outputs": [
    {
     "name": "stdout",
     "output_type": "stream",
     "text": [
      "Метод Симпсона:\n",
      "I(0.0,0.1) = 0.10016742128878188;\t\tN = 16;\t\tF(0.1) = 0.10016742128878188\n",
      "I(0.1,0.2) = 0.10119049979053968;\t\tN = 16;\t\tF(0.2) = 0.20135792107932154\n",
      "I(0.2,0.3) = 0.10333473347571856;\t\tN = 16;\t\tF(0.3) = 0.30469265455504013\n",
      "I(0.3,0.4) = 0.1068241925063356;\t\tN = 16;\t\tF(0.4) = 0.4115168470613757\n",
      "I(0.4,0.5) = 0.11208193048358346;\t\tN = 16;\t\tF(0.5) = 0.5235987775449592\n",
      "I(0.5,0.6) = 0.11990233557095896;\t\tN = 16;\t\tF(0.6) = 0.6435011131159182\n",
      "I(0.6,0.7) = 0.13189639542252096;\t\tN = 16;\t\tF(0.7) = 0.7753975085384391\n",
      "I(0.7,0.8) = 0.15189775887182805;\t\tN = 16;\t\tF(0.8) = 0.9272952674102672\n",
      "I(0.8,0.9) = 0.1924743290046637;\t\tN = 32;\t\tF(0.9) = 1.119769596414931\n",
      "Метод трапеций:\n",
      "I(0.0,0.1) = 0.10016750377778579;\t\tN = 64;\t\tF(0.1) = 0.10016750377778579\n",
      "I(0.1,0.2) = 0.10119059005044458;\t\tN = 64;\t\tF(0.2) = 0.20135809382823036\n",
      "I(0.2,0.3) = 0.10333484142720598;\t\tN = 64;\t\tF(0.3) = 0.30469293525543634\n",
      "I(0.3,0.4) = 0.10682433363530336;\t\tN = 64;\t\tF(0.4) = 0.4115172688907397\n",
      "I(0.4,0.5) = 0.1120821331707917;\t\tN = 64;\t\tF(0.5) = 0.5235994020615314\n",
      "I(0.5,0.6) = 0.11990241499713529;\t\tN = 128;\t\tF(0.6) = 0.6435018170586667\n",
      "I(0.6,0.7) = 0.1318965404207738;\t\tN = 128;\t\tF(0.7) = 0.7753983574794405\n",
      "I(0.7,0.8) = 0.1518978120152394;\t\tN = 256;\t\tF(0.8) = 0.92729616949468\n",
      "I(0.8,0.9) = 0.19247438808369824;\t\tN = 512;\t\tF(0.9) = 1.1197705575783783\n"
     ]
    }
   ],
   "source": [
    "print(\"Метод Симпсона:\")\n",
    "print_results(method_Simpson)\n",
    "print(\"Метод трапеций:\")\n",
    "print_results(method_Trap)"
   ]
  },
  {
   "cell_type": "code",
   "execution_count": null,
   "metadata": {},
   "outputs": [],
   "source": []
  }
 ],
 "metadata": {
  "kernelspec": {
   "display_name": "Python 3",
   "language": "python",
   "name": "python3"
  },
  "language_info": {
   "codemirror_mode": {
    "name": "ipython",
    "version": 3
   },
   "file_extension": ".py",
   "mimetype": "text/x-python",
   "name": "python",
   "nbconvert_exporter": "python",
   "pygments_lexer": "ipython3",
   "version": "3.6.2"
  }
 },
 "nbformat": 4,
 "nbformat_minor": 2
}
